{
 "cells": [
  {
   "cell_type": "markdown",
   "id": "3c4d97a9",
   "metadata": {},
   "source": [
    "## Implémentation de la régression logistique sur Iris"
   ]
  },
  {
   "cell_type": "code",
   "execution_count": 1,
   "id": "8d3b386e",
   "metadata": {},
   "outputs": [],
   "source": [
    "# import des librairies l' environnement\n",
    "%matplotlib inline\n",
    "import numpy as np\n",
    "import matplotlib.pyplot as plt\n",
    "from sklearn import datasets"
   ]
  },
  {
   "cell_type": "code",
   "execution_count": 2,
   "id": "8ad42635",
   "metadata": {},
   "outputs": [],
   "source": [
    "# Chargement de base de données iris\n",
    "iris = datasets.load_iris()"
   ]
  },
  {
   "cell_type": "code",
   "execution_count": 3,
   "id": "30b97b61",
   "metadata": {},
   "outputs": [],
   "source": [
    "# choix de deux variables\n",
    "X = iris.data[:, :2] # Utiliser les deux premiers colonnes afin d'avoir un problème de classification binaire.&nbsp;\n",
    "y = (iris.target !=0) * 1 # re-étiquetage des fleurs\n"
   ]
  },
  {
   "cell_type": "markdown",
   "id": "749e2c2c",
   "metadata": {},
   "source": [
    "#### Visualisation du jeu de données"
   ]
  },
  {
   "cell_type": "code",
   "execution_count": 4,
   "id": "6e791317",
   "metadata": {},
   "outputs": [
    {
     "data": {
      "image/png": "[encoded data removed]",
      "text/plain": [
       "<Figure size 720x432 with 1 Axes>"
      ]
     },
     "metadata": {
      "needs_background": "light"
     },
     "output_type": "display_data"
    }
   ],
   "source": [
    "#visualisation des données\n",
    "plt.figure(figsize=(10, 6))\n",
    "plt.scatter(X[y == 0][:, 0], X[y == 0][:, 1], color='g', label='0')\n",
    "plt.scatter(X[y == 1][:, 0], X[y == 1][:, 1], color='y', label='1')\n",
    "plt.legend();"
   ]
  },
  {
   "cell_type": "markdown",
   "id": "bbf2e30e",
   "metadata": {},
   "source": [
    "## Entrainement d’un modèle de régression logistique"
   ]
  },
  {
   "cell_type": "code",
   "execution_count": 5,
   "id": "e59eb1c8",
   "metadata": {},
   "outputs": [
    {
     "data": {
      "text/plain": [
       "LogisticRegression(C=1e+20)"
      ]
     },
     "execution_count": 5,
     "metadata": {},
     "output_type": "execute_result"
    }
   ],
   "source": [
    "from sklearn.linear_model import LogisticRegression # import de la classe\n",
    "\n",
    "model = LogisticRegression(C=1e20) # construction d'un objet de Régression logistique\n",
    "model.fit(X, y) # Entrainement du modèle"
   ]
  },
  {
   "cell_type": "markdown",
   "id": "022ae7e1",
   "metadata": {},
   "source": [
    "## Prédire de la classe de nouvelles fleurs d’IRIS"
   ]
  },
  {
   "cell_type": "code",
   "execution_count": 6,
   "id": "835fdf90",
   "metadata": {},
   "outputs": [],
   "source": [
    "Iries_To_Predict = [\n",
    "    [5.5, 2.5],\n",
    "    [7, 3],\n",
    "   [3, 2],\n",
    "    [5, 3]\n",
    "]"
   ]
  },
  {
   "cell_type": "code",
   "execution_count": 7,
   "id": "9a2a527d",
   "metadata": {},
   "outputs": [
    {
     "data": {
      "text/plain": [
       "array([1, 1, 0, 0])"
      ]
     },
     "execution_count": 7,
     "metadata": {},
     "output_type": "execute_result"
    }
   ],
   "source": [
    "model.predict(Iries_To_Predict)"
   ]
  },
  {
   "cell_type": "code",
   "execution_count": null,
   "id": "19784f37",
   "metadata": {},
   "outputs": [],
   "source": []
  }
 ],
 "metadata": {
  "kernelspec": {
   "display_name": "Python 3 (ipykernel)",
   "language": "python",
   "name": "python3"
  },
  "language_info": {
   "codemirror_mode": {
    "name": "ipython",
    "version": 3
   },
   "file_extension": ".py",
   "mimetype": "text/x-python",
   "name": "python",
   "nbconvert_exporter": "python",
   "pygments_lexer": "ipython3",
   "version": "3.9.13"
  }
 },
 "nbformat": 4,
 "nbformat_minor": 5
}
