{
 "cells": [
  {
   "cell_type": "code",
   "execution_count": 1,
   "id": "21bd4afa",
   "metadata": {},
   "outputs": [
    {
     "name": "stdout",
     "output_type": "stream",
     "text": [
      "Requirement already satisfied: opencv-python in c:\\users\\jsuiu\\anaconda3\\lib\\site-packages (4.6.0.66)\n",
      "Requirement already satisfied: numpy>=1.17.3 in c:\\users\\jsuiu\\anaconda3\\lib\\site-packages (from opencv-python) (1.21.5)\n",
      "Note: you may need to restart the kernel to use updated packages.\n"
     ]
    }
   ],
   "source": [
    "pip install opencv-python"
   ]
  },
  {
   "cell_type": "code",
   "execution_count": null,
   "id": "cb9ee8b6",
   "metadata": {},
   "outputs": [],
   "source": [
    "import cv2\n",
    "import winsound\n",
    "cam = cv2.VideoCapture(0)\n",
    "while cam.isOpened():\n",
    "    ret, frame1 = cam.read()\n",
    "    ret, frame2 = cam.read()\n",
    "    diff = cv2.absdiff(frame1, frame2)\n",
    "    gray = cv2.cvtColor(diff, cv2.COLOR_RGB2GRAY)\n",
    "    blur = cv2.GaussianBlur(gray, (5,5), 0)\n",
    "    _, thresh = cv2.threshold(blur, 20, 255, cv2.THRESH_BINARY)\n",
    "    dilated = cv2.dilate(thresh, None, iterations=3)\n",
    "    contours, _ = cv2.findContours(dilated, cv2.RETR_TREE, cv2.CHAIN_APPROX_SIMPLE)\n",
    "   # cv2.drawContours(frame1, contours, -1, (0, 255, 0), 2)\n",
    "    for c in contours:\n",
    "        if cv2.contourArea(c) < 5000:\n",
    "            continue\n",
    "        x, y, w, h = cv2.boundingRect(c)\n",
    "        cv2.rectangle(frame1, (x, y), (x+w, y+h), (0, 255, 0), 2)\n",
    "        winsound.PlaySound('alert.wav', winsound.SND_ASYNC)\n",
    "    if cv2.waitKey(10) == ord('q'):\n",
    "        break\n",
    "    cv2.imshow('aizen sama', frame1)"
   ]
  },
  {
   "cell_type": "code",
   "execution_count": null,
   "id": "eeb19da4",
   "metadata": {},
   "outputs": [],
   "source": []
  }
 ],
 "metadata": {
  "kernelspec": {
   "display_name": "Python 3 (ipykernel)",
   "language": "python",
   "name": "python3"
  },
  "language_info": {
   "codemirror_mode": {
    "name": "ipython",
    "version": 3
   },
   "file_extension": ".py",
   "mimetype": "text/x-python",
   "name": "python",
   "nbconvert_exporter": "python",
   "pygments_lexer": "ipython3",
   "version": "3.9.13"
  }
 },
 "nbformat": 4,
 "nbformat_minor": 5
}
